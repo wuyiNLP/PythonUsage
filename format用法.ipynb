{
 "cells": [
  {
   "cell_type": "code",
   "execution_count": 20,
   "metadata": {
    "scrolled": true
   },
   "outputs": [
    {
     "name": "stdout",
     "output_type": "stream",
     "text": [
      "jasminekm\n"
     ]
    }
   ],
   "source": [
    "print('{}{}'.format('jasmine','km'))"
   ]
  },
  {
   "cell_type": "code",
   "execution_count": 21,
   "metadata": {},
   "outputs": [
    {
     "name": "stdout",
     "output_type": "stream",
     "text": [
      "jasminekm\n"
     ]
    }
   ],
   "source": [
    "print('{0}{1}'.format('jasmine','km'))#带有数字索引"
   ]
  },
  {
   "cell_type": "code",
   "execution_count": 22,
   "metadata": {},
   "outputs": [
    {
     "name": "stdout",
     "output_type": "stream",
     "text": [
      "kmjasmine\n"
     ]
    }
   ],
   "source": [
    "print('{1}{0}'.format('jasmine','km'))#带有数字索引"
   ]
  },
  {
   "cell_type": "code",
   "execution_count": 23,
   "metadata": {},
   "outputs": [
    {
     "name": "stdout",
     "output_type": "stream",
     "text": [
      "km and jasmine\n"
     ]
    }
   ],
   "source": [
    "print('{1} and {0}'.format('jasmine','km'))#带有数字索引"
   ]
  },
  {
   "cell_type": "code",
   "execution_count": 24,
   "metadata": {},
   "outputs": [
    {
     "name": "stdout",
     "output_type": "stream",
     "text": [
      "jasminekm\n"
     ]
    }
   ],
   "source": [
    "print('{m}{n}'.format(m='jasmine',n='km'))#带有数字索引"
   ]
  },
  {
   "cell_type": "code",
   "execution_count": 25,
   "metadata": {},
   "outputs": [
    {
     "name": "stdout",
     "output_type": "stream",
     "text": [
      "1.11111 and 2.22\n"
     ]
    }
   ],
   "source": [
    "print('{0} and {1:.2f}'.format(1.11111,2.22222))#保留两位小数点，数字不用带引号"
   ]
  },
  {
   "cell_type": "code",
   "execution_count": 30,
   "metadata": {},
   "outputs": [
    {
     "name": "stdout",
     "output_type": "stream",
     "text": [
      "jasmine    and km         and\n"
     ]
    }
   ],
   "source": [
    "print('{0:<10} and {1:<10} and'.format('jasmine','km'))#左对齐"
   ]
  },
  {
   "cell_type": "code",
   "execution_count": 31,
   "metadata": {},
   "outputs": [
    {
     "name": "stdout",
     "output_type": "stream",
     "text": [
      "   jasmine and         km and\n"
     ]
    }
   ],
   "source": [
    "print('{0:>10} and {1:>10} and'.format('jasmine','km'))#右对齐"
   ]
  }
 ],
 "metadata": {
  "kernelspec": {
   "display_name": "Python 3",
   "language": "python",
   "name": "python3"
  },
  "language_info": {
   "codemirror_mode": {
    "name": "ipython",
    "version": 3
   },
   "file_extension": ".py",
   "mimetype": "text/x-python",
   "name": "python",
   "nbconvert_exporter": "python",
   "pygments_lexer": "ipython3",
   "version": "3.7.4"
  }
 },
 "nbformat": 4,
 "nbformat_minor": 2
}
